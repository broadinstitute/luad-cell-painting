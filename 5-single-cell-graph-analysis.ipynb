{
 "cells": [
  {
   "cell_type": "code",
   "execution_count": 1,
   "metadata": {},
   "outputs": [],
   "source": [
    "%matplotlib inline\n",
    "\n",
    "import numpy as np\n",
    "import pandas as pd\n",
    "import os\n",
    "import time\n",
    "\n",
    "import matplotlib.pyplot as plt\n",
    "from matplotlib_venn import venn3, venn3_circles, venn2\n",
    "\n",
    "import pickle\n",
    "\n",
    "import tensorflow as tf"
   ]
  },
  {
   "cell_type": "code",
   "execution_count": 2,
   "metadata": {},
   "outputs": [
    {
     "name": "stdout",
     "output_type": "stream",
     "text": [
      "Num GPUs Available:  8\n"
     ]
    }
   ],
   "source": [
    "physical_devices = tf.config.list_physical_devices('GPU')\n",
    "print(\"Num GPUs Available: \", len(tf.config.list_physical_devices('GPU')))\n",
    "\n",
    "# pick GPU 0:\n",
    "tf.config.set_visible_devices(physical_devices[0], 'GPU')\n",
    "\n",
    "def compute_cosine_distances(a, b):\n",
    "    # x shape is n_a * dim\n",
    "    # y shape is n_b * dim\n",
    "    # results shape is n_a * n_b\n",
    "\n",
    "    normalize_a = tf.nn.l2_normalize(a,1)        \n",
    "    normalize_b = tf.nn.l2_normalize(b,1)\n",
    "    distance = 1 - tf.matmul(normalize_a, normalize_b, transpose_b=True)\n",
    "    return distance.numpy()\n",
    "\n",
    "def compute_euclidean_distances(A):\n",
    "    #d = tf.math.sqrt( tf.reduce_sum((tf.expand_dims(a, 1)-tf.expand_dims(b, 0))**2,2))\n",
    "    r = tf.math.reduce_sum(A*A, 1)\n",
    "    r = tf.reshape(r, [-1, 1])\n",
    "    D = r - 2*tf.matmul(A, tf.transpose(A)) + tf.transpose(r)\n",
    "    D = D.numpy()\n",
    "    D[D < 0] = 0.0\n",
    "    return np.sqrt(D)"
   ]
  },
  {
   "cell_type": "code",
   "execution_count": 3,
   "metadata": {},
   "outputs": [],
   "source": [
    "def nearest_neighbors(CTL, WT, MUT, K=5):\n",
    "\n",
    "    ALL = np.concatenate([CTL, WT, MUT], axis=0)\n",
    "    \n",
    "    # Compute distance matrix\n",
    "    D = compute_cosine_distances(ALL, ALL)\n",
    "    #D = compute_euclidean_distances(ALL)\n",
    "    \n",
    "    # Suppress diagonal\n",
    "    D[np.diag_indices(D.shape[0])] = 10\n",
    "    \n",
    "    # Search the K nearest neighbors\n",
    "    NN = []\n",
    "    for nn in range(K):\n",
    "        nnx = np.argmin(D, axis=0)\n",
    "        D[nnx, np.arange(D.shape[0])] = 1e6\n",
    "        NN.append(nnx)\n",
    "    NN = np.concatenate([x[:,np.newaxis] for x in NN], axis=1)\n",
    "    \n",
    "    # Identify type of neighbor according to the position in the array\n",
    "    NN[NN < CTL.shape[0]] = 1                                           # Controls\n",
    "    NN[(NN >= CTL.shape[0]) & (NN < CTL.shape[0] + WT.shape[0])] = 11   # Wild types\n",
    "    NN[NN >= CTL.shape[0] + WT.shape[0]] = 111                          # Mutants\n",
    "    \n",
    "    # Types of neighborhoods\n",
    "    A = np.sum(np.all(NN == 1, axis=1))                            # Controls\n",
    "    B = np.sum(np.all(NN == 11, axis=1))                           # Wild types\n",
    "    C = np.sum(np.all(NN == 111, axis=1))                          # Mutants\n",
    "    D = np.sum(np.all((NN == 1) | (NN == 11), axis=1)) - A - B     # Control or Wild type\n",
    "    E = np.sum(np.all((NN == 1) | (NN == 111), axis=1)) - A - C    # Control or Mutant\n",
    "    F = np.sum(np.all((NN == 11) | (NN == 111), axis=1)) - B - C   # Wild type or Mutant\n",
    "    G = NN.shape[0] - A - B - C - D - E - F                        # All mixed\n",
    "    \n",
    "    # Impact score: fraction of active mutant cells that are different from active wild type cells\n",
    "    impact_score = C/(C+F)\n",
    "\n",
    "    # Fraction of active mutant cells:\n",
    "    active_mutants = C/MUT.shape[0]\n",
    "    \n",
    "    results = {\n",
    "        \"CTL\": A, \"WT\": B, \"MUT\": C, \"CTL-WT\": D, \"CTL-MUT\": E, \"WT-MUT\": F, \"ANY\": G,\n",
    "        \"impact_score\": impact_score, \"active_mutants\": active_mutants\n",
    "    }\n",
    "    \n",
    "    # Compatibility with previous analysis:\n",
    "    all_values = [B, C, F, A, D, E, G]\n",
    "    \n",
    "    return results, all_values"
   ]
  },
  {
   "cell_type": "code",
   "execution_count": 4,
   "metadata": {},
   "outputs": [],
   "source": [
    "def analyze_variant(wt_id, neighborhood=10, N=2000, features=\"features\"):\n",
    "    \n",
    "    # Load data\n",
    "    with open(\"outputs/single-cells/\" + wt_id + \".pkl\",\"rb\") as file:\n",
    "        data = pickle.load(file)\n",
    "        \n",
    "    # Prepare matrices\n",
    "    WT = data[\"wild_type_data\"][\"features\"]\n",
    "    CTL = data[\"controls\"][\"features\"]\n",
    "    \n",
    "    idx = np.arange(WT.shape[0])\n",
    "    np.random.shuffle(idx)\n",
    "    WT = WT[idx[0:N],...]\n",
    "    \n",
    "    idx = np.arange(CTL.shape[0])\n",
    "    np.random.shuffle(idx)\n",
    "    CTL = CTL[idx[0:N],...]\n",
    "        \n",
    "    graph_scores = {}\n",
    "    \n",
    "    for allele in data[\"mutant_ids\"]:\n",
    "        MUT = data[\"mutants_data\"][allele][\"features\"]\n",
    "        idx = np.arange(MUT.shape[0])\n",
    "        np.random.shuffle(idx)\n",
    "        MUT = MUT[idx[0:N],...]\n",
    "        \n",
    "        rs, av = nearest_neighbors(CTL, WT, MUT, neighborhood)\n",
    "        \n",
    "        print(allele, rs[\"impact_score\"])\n",
    "        graph_scores[allele] = {\"all_values\": av, \"mut_wt_values\": av[0:3], \"impact_score\": rs[\"impact_score\"]}\n",
    "        \n",
    "    # Save computations\n",
    "    with open(\"outputs/single-cells/\" + wt_id + \".pkl\", \"wb\") as out:\n",
    "        pickle.dump({\n",
    "            \"wild_type_data\":data[\"wild_type_data\"], \n",
    "            \"mutant_ids\": data[\"mutant_ids\"],\n",
    "            \"mutants_data\": data[\"mutants_data\"], \n",
    "            \"controls\": data[\"controls\"],\n",
    "            \"ctlimgs\": data[\"ctlimgs\"],\n",
    "            \"graph_scores\": graph_scores,\n",
    "            \"Y\": data[\"Y\"]\n",
    "        }, out)\n"
   ]
  },
  {
   "cell_type": "code",
   "execution_count": 5,
   "metadata": {},
   "outputs": [
    {
     "name": "stdout",
     "output_type": "stream",
     "text": [
      "595@CCND1_WT.c\n",
      "595@CCND1_p.E172K 0.2674470457079153\n"
     ]
    }
   ],
   "source": [
    "# Run the analysis\n",
    "wild_types = [k.replace(\".pkl\", \"\") for k in os.listdir(\"outputs/single-cells/\") if k.endswith(\".pkl\")]\n",
    "for wt in wild_types:\n",
    "    #if wt.find(\"CCND1\") == -1 : continue # Uncomment to test on a single variant\n",
    "    print(wt)\n",
    "    analyze_variant(wt, neighborhood=5, N=10000)"
   ]
  },
  {
   "cell_type": "code",
   "execution_count": null,
   "metadata": {},
   "outputs": [],
   "source": []
  }
 ],
 "metadata": {
  "kernelspec": {
   "display_name": "Python 3",
   "language": "python",
   "name": "python3"
  },
  "language_info": {
   "codemirror_mode": {
    "name": "ipython",
    "version": 3
   },
   "file_extension": ".py",
   "mimetype": "text/x-python",
   "name": "python",
   "nbconvert_exporter": "python",
   "pygments_lexer": "ipython3",
   "version": "3.7.3"
  }
 },
 "nbformat": 4,
 "nbformat_minor": 4
}
