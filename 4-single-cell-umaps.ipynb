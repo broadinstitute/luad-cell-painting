{
 "cells": [
  {
   "cell_type": "code",
   "execution_count": 1,
   "metadata": {},
   "outputs": [],
   "source": [
    "%matplotlib inline"
   ]
  },
  {
   "cell_type": "code",
   "execution_count": 2,
   "metadata": {},
   "outputs": [],
   "source": [
    "import numpy as np\n",
    "import pandas as pd\n",
    "import os\n",
    "import glob\n",
    "import tqdm\n",
    "\n",
    "import sys\n",
    "import umap\n",
    "\n",
    "import scipy.linalg\n",
    "import pickle\n",
    "import re"
   ]
  },
  {
   "cell_type": "code",
   "execution_count": 3,
   "metadata": {},
   "outputs": [],
   "source": [
    "DO_WHITENING = True\n",
    "REG_PARAM = 1e-1\n",
    "MAX_POINTS = 15000"
   ]
  },
  {
   "cell_type": "markdown",
   "metadata": {},
   "source": [
    "# Auxiliary functions"
   ]
  },
  {
   "cell_type": "code",
   "execution_count": 4,
   "metadata": {},
   "outputs": [],
   "source": [
    "def load_single_cells(allele):\n",
    "    single_cells = []\n",
    "    file_handlers = [] # \"52649_e15_1/1.jpg\"\n",
    "    for key in tqdm.tqdm(rdf[rdf[\"Treatment\"].str.contains(allele, regex=True)].index):\n",
    "        data = np.load(rdf.loc[key, \"filename\"])\n",
    "        data = data[\"features\"] #[0:32,...]\n",
    "        single_cells.append(data)\n",
    "        file_handlers += [\n",
    "            rdf.loc[key, \"filename\"].replace(\".npz\",\"/\") + str(i) + \".jpg\"\n",
    "            for i in range(data.shape[0])\n",
    "        ]\n",
    "    if len(single_cells) > 0:\n",
    "        all_cells = np.concatenate(single_cells)\n",
    "        P = np.where(~np.isnan(np.sum(all_cells, axis=1)))\n",
    "        return all_cells[P[0],: ], file_handlers\n",
    "    else:\n",
    "        return None, None"
   ]
  },
  {
   "cell_type": "code",
   "execution_count": 5,
   "metadata": {},
   "outputs": [],
   "source": [
    "def sample(features, image_names, size):\n",
    "    N = features.shape[0]\n",
    "    R = np.arange(N)\n",
    "    np.random.shuffle(R)\n",
    "    \n",
    "    R = R[0:size]\n",
    "    sample_features = features[R]\n",
    "    sample_images = [image_names[x] for x in R]\n",
    "    \n",
    "    plates = [re.match(r\"^(.+)_(.+)_(.)\", x).groups()[0] for x in sample_images]\n",
    "    \n",
    "    return sample_features, sample_images, plates"
   ]
  },
  {
   "cell_type": "code",
   "execution_count": 6,
   "metadata": {},
   "outputs": [],
   "source": [
    "def prepare_allele(allele_id, mean_ctl, normalizer):\n",
    "    # Load single cell data of wt and mut\n",
    "    allele_features, allele_imgs = load_single_cells(allele_id)\n",
    "    print(allele_id, allele_features.shape)\n",
    "    allele_features = normalizer.normalize(allele_features, allele_imgs)\n",
    "    \n",
    "    allele_data = {\n",
    "        \"id\": allele_id,\n",
    "        \"features\": allele_features,\n",
    "        #\"whitened\": allele_wh,\n",
    "        \"images\": allele_imgs\n",
    "    }\n",
    "    return allele_data"
   ]
  },
  {
   "cell_type": "code",
   "execution_count": 7,
   "metadata": {},
   "outputs": [],
   "source": [
    "def compute_umap_projection(wt_id, mutant_ids, controls, ctlimgs, mean_ctl, normalizer, embedding=\"features\"):\n",
    "    # Load data for wild type and mutants    \n",
    "    wild_type_data = prepare_allele(wt_id, mean_ctl, normalizer)\n",
    "    mutants_data = {mut_id: prepare_allele(mut_id, mean_ctl, normalizer) for mut_id in mutant_ids}\n",
    "    \n",
    "    # Subsample for fast debugging\n",
    "    num_ctl = len(ctlimgs)\n",
    "    wild_type_data[embedding], wild_type_data[\"images\"], _ = sample(wild_type_data[embedding], wild_type_data[\"images\"], num_ctl)\n",
    "    for k in mutant_ids:\n",
    "        mutants_data[k][embedding], mutants_data[k][\"images\"], _ = sample(mutants_data[k][embedding], mutants_data[k][\"images\"], num_ctl)\n",
    "    \n",
    "    # UMAP projection for all mutants of this wild type\n",
    "    features = np.concatenate( \n",
    "        [controls, \n",
    "         wild_type_data[embedding]] + \n",
    "        [mutants_data[k][embedding] for k in mutant_ids] \n",
    "    )\n",
    "    print(\"Computing UMAP for\", features.shape[0], \"data points\")   \n",
    "    Y = umap.UMAP(n_neighbors=15).fit_transform(features)\n",
    "    \n",
    "    # Save computations\n",
    "    with open(\"outputs/single-cells/\" + wt_id + \".pkl\", \"wb\") as out:\n",
    "        pickle.dump({\n",
    "            \"wild_type_data\":wild_type_data, \n",
    "            \"mutant_ids\": mutant_ids,\n",
    "            \"mutants_data\":mutants_data, \n",
    "            \"controls\": {embedding: controls},\n",
    "            \"ctlimgs\":ctlimgs,\n",
    "            \"graph_scores\":0,\n",
    "            \"Y\": Y\n",
    "        }, out)"
   ]
  },
  {
   "cell_type": "markdown",
   "metadata": {},
   "source": [
    "# Load single-cell data"
   ]
  },
  {
   "cell_type": "code",
   "execution_count": 8,
   "metadata": {},
   "outputs": [
    {
     "data": {
      "text/plain": [
       "55292"
      ]
     },
     "execution_count": 8,
     "metadata": {},
     "output_type": "execute_result"
    }
   ],
   "source": [
    "root_dir = \"/dgx1nas1/storage/data/jarevalo/luad/dp_project/\"\n",
    "feature_dir = root_dir + \"outputs/efn_pretrained/\"\n",
    "files = [f for f in glob.glob(feature_dir + '/**/*.npz', recursive=True) if f.endswith(\".npz\")]\n",
    "len(files)"
   ]
  },
  {
   "cell_type": "code",
   "execution_count": 9,
   "metadata": {},
   "outputs": [],
   "source": [
    "df = pd.read_csv(root_dir + \"inputs/metadata/index.csv\")\n",
    "alleles = pd.read_csv(\"/raid/data/luad/dp-project/inputs/metadata/filtered/TAOE014015/Allele.csv\")\n",
    "os.makedirs(\"outputs/single-cells/\", exist_ok=True)"
   ]
  },
  {
   "cell_type": "code",
   "execution_count": 10,
   "metadata": {},
   "outputs": [],
   "source": [
    "if os.path.exists(\"file_data_frame.csv\"):\n",
    "    fdf = pd.read_csv(\"file_data_frame.csv\")\n",
    "else:\n",
    "    fdf = pd.DataFrame(columns=[\"Metadata_Plate\", \"Metadata_Well\", \"Metadata_Site\", \"filename\"])\n",
    "    i = 0\n",
    "    for f in tqdm.tqdm(files):\n",
    "        key = f.replace(\".npz\",\"\").split(\"features/\")[-1]\n",
    "        plate, ws = key.split(\"/\")\n",
    "        well, site = ws.split(\"_\")\n",
    "        fdf.loc[i] = {\"Metadata_Plate\": int(plate), \"Metadata_Well\":well, \"Metadata_Site\":int(site), \"filename\":f}\n",
    "        i += 1\n",
    "    fdf.to_csv(\"file_data_frame.csv\")"
   ]
  },
  {
   "cell_type": "code",
   "execution_count": 11,
   "metadata": {},
   "outputs": [],
   "source": [
    "fdf.Metadata_Site = pd.to_numeric(fdf.Metadata_Site)\n",
    "fdf.Metadata_Plate = pd.to_numeric(fdf.Metadata_Plate)"
   ]
  },
  {
   "cell_type": "code",
   "execution_count": 12,
   "metadata": {},
   "outputs": [],
   "source": [
    "rdf0 = pd.merge(df, fdf, on=[\"Metadata_Plate\", \"Metadata_Well\", \"Metadata_Site\"])\n",
    "rdf = pd.merge(rdf0, alleles, how=\"left\", left_on=\"Allele\", right_on=\"ID\")"
   ]
  },
  {
   "cell_type": "code",
   "execution_count": 13,
   "metadata": {},
   "outputs": [
    {
     "data": {
      "text/plain": [
       "594"
      ]
     },
     "execution_count": 13,
     "metadata": {},
     "output_type": "execute_result"
    }
   ],
   "source": [
    "len(rdf[\"Treatment\"].unique())"
   ]
  },
  {
   "cell_type": "markdown",
   "metadata": {},
   "source": [
    "# Population level profiles"
   ]
  },
  {
   "cell_type": "code",
   "execution_count": 14,
   "metadata": {},
   "outputs": [
    {
     "name": "stderr",
     "output_type": "stream",
     "text": [
      "/opt/tljh/user/lib/python3.7/site-packages/IPython/core/interactiveshell.py:3331: DtypeWarning: Columns (1) have mixed types.Specify dtype option on import or set low_memory=False.\n",
      "  exec(code_obj, self.user_global_ns, self.user_ns)\n"
     ]
    },
    {
     "name": "stdout",
     "output_type": "stream",
     "text": [
      "Treatments: 306\n"
     ]
    }
   ],
   "source": [
    "## Read aggregated CellProfiler features\n",
    "morphology = pd.read_csv(\"/raid/data/luad/dp-project/inputs/metadata/morphology.csv\")\n",
    "\n",
    "## Read well level profiles created with the profiling/profiles-weakly-supervised.ipnb notebook:\n",
    "profiles = pd.read_parquet(\"/dgx1nas1/storage/data/jarevalo/luad/dp_project/efn_pretrained_profiles.parquet\")\n",
    "\n",
    "treatments = morphology[\"Metadata_broad_sample\"].unique()\n",
    "print(\"Treatments:\", len(treatments))\n",
    "FF = 23 # First feature in data frame\n",
    "\n",
    "mdata = pd.merge(morphology[morphology.columns[0:FF]], profiles, on=[\"Metadata_Plate\", \"Metadata_Well\"])\n",
    "mdata = mdata.reset_index(drop=True)\n",
    "mdata.loc[mdata[\"Allele\"].isnull(), \"Allele\"] = \"EMPTY\"\n",
    "\n",
    "profiles = np.asarray(mdata[mdata.columns[FF+1:-2]])"
   ]
  },
  {
   "cell_type": "code",
   "execution_count": 15,
   "metadata": {},
   "outputs": [],
   "source": [
    "# Load controls\n",
    "aggregated_controls = np.asarray(mdata.loc[mdata[\"Allele\"] == \"EMPTY\", mdata.columns[FF:]])\n",
    "agg_mean_ctl = np.mean(aggregated_controls, axis=0)"
   ]
  },
  {
   "cell_type": "markdown",
   "metadata": {},
   "source": [
    "# Make sample of single-cell controls"
   ]
  },
  {
   "cell_type": "code",
   "execution_count": 16,
   "metadata": {},
   "outputs": [],
   "source": [
    "class AllControlsNormalizer(object):\n",
    "    def __init__(self, sc_controls, ctlimgs):\n",
    "        self.MEAN = np.mean(sc_controls)\n",
    "        self.STD = np.std(sc_controls)\n",
    "        \n",
    "    def normalize(self, features, images):\n",
    "        return (features - self.MEAN) / self.STD"
   ]
  },
  {
   "cell_type": "code",
   "execution_count": 17,
   "metadata": {},
   "outputs": [],
   "source": [
    "class SCWhiteningNormalizer(object):\n",
    "    def __init__(self, sc_controls):\n",
    "        # Whitening transform on population level data\n",
    "        self.mu = np.mean(sc_controls, axis=0)\n",
    "        self.whitening_transform(sc_controls - self.mu, REG_PARAM)\n",
    "        print(self.mu.shape, self.W.shape)\n",
    "        \n",
    "    def whitening_transform(self, X, lambda_, rotate=True):\n",
    "        C = (1/X.shape[0]) * np.dot(X.T, X)\n",
    "        s, V = scipy.linalg.eigh(C)\n",
    "        D = np.diag( 1. / np.sqrt(s + lambda_) )\n",
    "        W = np.dot(V, D)\n",
    "        if rotate:\n",
    "            W = np.dot(W, V.T)\n",
    "        self.W = W\n",
    "\n",
    "    def normalize(self, X, images):\n",
    "        return np.dot(X - self.mu, self.W)"
   ]
  },
  {
   "cell_type": "code",
   "execution_count": null,
   "metadata": {},
   "outputs": [
    {
     "name": "stderr",
     "output_type": "stream",
     "text": [
      "100%|██████████| 2880/2880 [05:32<00:00,  8.65it/s]\n"
     ]
    }
   ],
   "source": [
    "sc_controls, ctlimgs = load_single_cells(\"NA@EMPTY\")"
   ]
  },
  {
   "cell_type": "code",
   "execution_count": null,
   "metadata": {},
   "outputs": [],
   "source": [
    "# Whiten single-cell controls\n",
    "if DO_WHITENING:\n",
    "    normalizer = SCWhiteningNormalizer(sc_controls)\n",
    "else:\n",
    "    normalizer = AllControlsNormalizer(sc_controls, ctlimgs)\n",
    "    \n",
    "controls_sample, ctlimgs_sample, _ = sample(sc_controls, ctlimgs, MAX_POINTS)\n",
    "controls_sample = normalizer.normalize(controls_sample, ctlimgs_sample)"
   ]
  },
  {
   "cell_type": "markdown",
   "metadata": {},
   "source": [
    "# Compute UMAP projections"
   ]
  },
  {
   "cell_type": "code",
   "execution_count": null,
   "metadata": {},
   "outputs": [],
   "source": [
    "# Identify wild type alleles\n",
    "wild_type_ids = [al for al in rdf[\"Treatment\"].unique() if al.endswith(\"_WT.c\")]\n",
    "\n",
    "# Analyze each mutant\n",
    "for wt_id in wild_type_ids:\n",
    "    #if wt_id.find(\"CCND1\") == -1: continue # Uncomment to test on a single variant\n",
    "    wt = wt_id.split(\"@\")[1].replace(\"_WT.c\",\"\")\n",
    "    mutant_ids = [al for al in rdf[\"Treatment\"].unique() if al.find(wt) != -1 and not al.endswith(\"_WT.c\")]\n",
    "\n",
    "    %time compute_umap_projection(wt_id, mutant_ids, controls_sample, ctlimgs_sample, agg_mean_ctl, normalizer)"
   ]
  },
  {
   "cell_type": "code",
   "execution_count": null,
   "metadata": {},
   "outputs": [],
   "source": []
  }
 ],
 "metadata": {
  "kernelspec": {
   "display_name": "Python 3",
   "language": "python",
   "name": "python3"
  },
  "language_info": {
   "codemirror_mode": {
    "name": "ipython",
    "version": 3
   },
   "file_extension": ".py",
   "mimetype": "text/x-python",
   "name": "python",
   "nbconvert_exporter": "python",
   "pygments_lexer": "ipython3",
   "version": "3.7.3"
  }
 },
 "nbformat": 4,
 "nbformat_minor": 4
}
